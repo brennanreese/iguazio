{
 "cells": [
  {
   "cell_type": "markdown",
   "metadata": {},
   "source": [
    "# Iguazio's Time Series Database"
   ]
  },
  {
   "cell_type": "code",
   "execution_count": 8,
   "metadata": {},
   "outputs": [
    {
     "name": "stderr",
     "output_type": "stream",
     "text": [
      "Unverified HTTPS request is being made to host 'framesd.default-tenant.app.usss-sales-341.iguazio-cd1.com'. Adding certificate verification is strongly advised. See: https://urllib3.readthedocs.io/en/1.26.x/advanced-usage.html#ssl-warnings\n"
     ]
    }
   ],
   "source": [
    "import v3io_frames as frames\n",
    "\n",
    "client = frames.Client('https://framesd.default-tenant.app.usss-sales-341.iguazio-cd1.com', container='bigdata', token='bceb8c21-02e3-4bc3-8934-3f109af7c8b0')\n",
    "\n",
    "client.create(backend=\"tsdb\", table='tsdb_table', rate=\"1/h\")"
   ]
  },
  {
   "cell_type": "code",
   "execution_count": 3,
   "metadata": {},
   "outputs": [],
   "source": [
    "import numpy as np\n",
    "from datetime import datetime, timedelta\n",
    "\n",
    "\n",
    "# Generate a DataFrame with TSDB metric samples and a \"time\" index column\n",
    "def gen_df_w_tsdb_data(num_items=24, freq=\"1H\", end=None, start=None,\n",
    "                       start_delta=None, tz=None, normalize=False, zero=False,\n",
    "                       attrs=[\"cpu\", \"mem\", \"disk\"]):\n",
    "    if (start is None and start_delta is not None and end is not None):\n",
    "        start = end - timedelta(days=start_delta)\n",
    "    if (zero):\n",
    "        if (end is not None):\n",
    "            end = end.replace(minute=0, second=0, microsecond=0)\n",
    "        if (start is not None):\n",
    "            start = start.replace(minute=0, second=0, microsecond=0)\n",
    "    # If `start`, `end`, `num_items` (date_range() `periods`), and `freq`\n",
    "    # are set, ignore `freq`\n",
    "    if (freq is not None and start is not None and end is not None and\n",
    "            num_items is not None):\n",
    "        freq = None\n",
    "    times = pd.date_range(periods=num_items, freq=freq, start=start, end=end,\n",
    "                          tz=tz, normalize=normalize)\n",
    "    data = np.random.rand(num_items, len(attrs)) * 100\n",
    "    df = pd.DataFrame(data, index=times, columns=attrs)\n",
    "    df.index.name = \"time\"\n",
    "    return df"
   ]
  },
  {
   "cell_type": "code",
   "execution_count": 5,
   "metadata": {},
   "outputs": [],
   "source": [
    "import pandas as pd\n",
    "\n",
    "# Prepare DataFrames with randomly generated metric samples\n",
    "end_t = datetime.now()\n",
    "start_delta = 7  # start time = ent_t - 7 days\n",
    "dfs = []\n",
    "for i in range(4):\n",
    "    # Generate a new DataFrame with TSDB metrics\n",
    "    dfs.append(gen_df_w_tsdb_data(end=end_t, start_delta=7, zero=True))\n",
    "    # Display DataFrame info & head (optional - for testing)\n",
    "    # print(\"\\n** dfs[\" + str(i) + \"] **\")\n",
    "    # display(dfs[i].info(), dfs[i].head())\n",
    "\n",
    "# Write to a TSDB table\n",
    "\n",
    "# Prepare metric labels to write\n",
    "labels = [\n",
    "    {\"node\": \"11\", \"os\": \"linux\"},\n",
    "    {\"node\": \"2\", \"os\": \"windows\"},\n",
    "    {\"node\": \"11\", \"os\": \"windows\"},\n",
    "    {\"node\": \"2\", \"os\": \"linux\"}\n",
    "]"
   ]
  },
  {
   "cell_type": "code",
   "execution_count": 6,
   "metadata": {},
   "outputs": [
    {
     "name": "stderr",
     "output_type": "stream",
     "text": [
      "casting datetime64[ns] values to int64 with .astype(...) is deprecated and will raise in a future version. Use .view(...) instead.\n",
      "casting datetime64[ns] values to int64 with .astype(...) is deprecated and will raise in a future version. Use .view(...) instead.\n",
      "casting datetime64[ns] values to int64 with .astype(...) is deprecated and will raise in a future version. Use .view(...) instead.\n",
      "casting datetime64[ns] values to int64 with .astype(...) is deprecated and will raise in a future version. Use .view(...) instead.\n"
     ]
    }
   ],
   "source": [
    "# Write the contents of the prepared DataFrames to a TSDB table. Use multiple\n",
    "# write commands with the `labels` parameter to set different label values.\n",
    "num_dfs = len(dfs)\n",
    "for i in range(num_dfs):\n",
    "    client.write(\"tsdb\", table='tsdb_table', dfs=dfs[i], labels=labels[i])"
   ]
  },
  {
   "cell_type": "code",
   "execution_count": 7,
   "metadata": {},
   "outputs": [
    {
     "name": "stdout",
     "output_type": "stream",
     "text": [
      "                                                   cpu       disk        mem\n",
      "time                             node os                                    \n",
      "2022-06-28 08:00:00+00:00        2    linux   3.789494  77.587174  73.207230\n",
      "2022-06-28 15:18:15.652000+00:00 2    linux  57.550241   8.884240  33.728375\n",
      "2022-06-28 22:36:31.304000+00:00 2    linux  31.188500  10.223689  30.056445\n",
      "2022-06-29 05:54:46.956000+00:00 2    linux  63.820421   8.543283  53.678887\n",
      "2022-06-29 13:13:02.608000+00:00 2    linux  96.506226  72.899027  90.498496\n",
      "2022-06-29 20:31:18.260000+00:00 2    linux  94.945842  25.973721  73.745772\n",
      "2022-06-30 03:49:33.913000+00:00 2    linux  83.466036  34.248145  78.203917\n",
      "2022-06-30 11:07:49.565000+00:00 2    linux  61.987083  15.210972  48.690961\n"
     ]
    },
    {
     "name": "stderr",
     "output_type": "stream",
     "text": [
      "Unverified HTTPS request is being made to host 'framesd.default-tenant.app.usss-sales-341.iguazio-cd1.com'. Adding certificate verification is strongly advised. See: https://urllib3.readthedocs.io/en/1.26.x/advanced-usage.html#ssl-warnings\n"
     ]
    }
   ],
   "source": [
    "# Read all metrics from the TSDB table (start=\"0\"; default `end` time = \"now\")\n",
    "# into a single DataFrame (default `Iterator`=False) and display the first 10\n",
    "# items; show metric labels as index columns (multi_index=True)\n",
    "df = client.read(backend=\"tsdb\", table='tsdb_table', start=\"0\", multi_index=True)\n",
    "print(df.head(8))"
   ]
  },
  {
   "cell_type": "code",
   "execution_count": 9,
   "metadata": {},
   "outputs": [
    {
     "name": "stdout",
     "output_type": "stream",
     "text": [
      "                                      count(cpu)  count(disk)  count(mem)  \\\n",
      "time                      node os                                           \n",
      "2022-06-28 00:00:00+00:00 11   linux         3.0          3.0         3.0   \n",
      "2022-06-29 00:00:00+00:00 11   linux         3.0          3.0         3.0   \n",
      "2022-06-30 00:00:00+00:00 11   linux         3.0          3.0         3.0   \n",
      "2022-07-01 00:00:00+00:00 11   linux         4.0          4.0         4.0   \n",
      "2022-07-02 00:00:00+00:00 11   linux         3.0          3.0         3.0   \n",
      "2022-07-03 00:00:00+00:00 11   linux         3.0          3.0         3.0   \n",
      "2022-07-04 00:00:00+00:00 11   linux         3.0          3.0         3.0   \n",
      "2022-07-05 00:00:00+00:00 11   linux         2.0          2.0         2.0   \n",
      "\n",
      "                                        sum(cpu)   sum(disk)    sum(mem)  \n",
      "time                      node os                                         \n",
      "2022-06-28 00:00:00+00:00 11   linux  137.933411  101.389720  187.707498  \n",
      "2022-06-29 00:00:00+00:00 11   linux  127.966212  162.515622  151.140904  \n",
      "2022-06-30 00:00:00+00:00 11   linux  217.061752   64.226366  241.540975  \n",
      "2022-07-01 00:00:00+00:00 11   linux  105.750274  263.198988  149.545035  \n",
      "2022-07-02 00:00:00+00:00 11   linux   36.449755  191.206223  114.230922  \n",
      "2022-07-03 00:00:00+00:00 11   linux  188.081926   55.864741  231.178295  \n",
      "2022-07-04 00:00:00+00:00 11   linux  157.077486   65.531202  113.484607  \n",
      "2022-07-05 00:00:00+00:00 11   linux   91.475462   44.274234   38.922291  \n"
     ]
    },
    {
     "name": "stderr",
     "output_type": "stream",
     "text": [
      "Unverified HTTPS request is being made to host 'framesd.default-tenant.app.usss-sales-341.iguazio-cd1.com'. Adding certificate verification is strongly advised. See: https://urllib3.readthedocs.io/en/1.26.x/advanced-usage.html#ssl-warnings\n"
     ]
    }
   ],
   "source": [
    "# Read over-time aggregates with a 1-day aggregation step for all metric\n",
    "# samples in the table with the `os` label \"linux\" and the `node` label 11.\n",
    "df = client.read(backend=\"tsdb\", table='tsdb_table', aggregators=\"count,sum\",\n",
    "                 step=\"1d\", start=\"0\", filter=\"os=='linux' and node=='11'\",\n",
    "                 multi_index=True)\n",
    "print(df)"
   ]
  }
 ],
 "metadata": {
  "interpreter": {
   "hash": "550d3c0cc35aa058f6c7e655340ddb3fd2fed2bad3c3316baabbf25b05b6d7a0"
  },
  "kernelspec": {
   "display_name": "Python 3.7.6 ('igz341')",
   "language": "python",
   "name": "python3"
  },
  "language_info": {
   "codemirror_mode": {
    "name": "ipython",
    "version": 3
   },
   "file_extension": ".py",
   "mimetype": "text/x-python",
   "name": "python",
   "nbconvert_exporter": "python",
   "pygments_lexer": "ipython3",
   "version": "3.7.6"
  },
  "orig_nbformat": 4
 },
 "nbformat": 4,
 "nbformat_minor": 2
}
