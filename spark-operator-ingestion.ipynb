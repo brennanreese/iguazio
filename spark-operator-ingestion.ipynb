{
 "cells": [
  {
   "cell_type": "code",
   "execution_count": null,
   "metadata": {},
   "outputs": [],
   "source": [
    "# mlrun: start-code\n",
    "\n",
    "from mlrun.feature_store.api import ingest\n",
    "def ingest_handler(context):\n",
    "    ingest(mlrun_context=context) # The handler function must call ingest with the mlrun_context\n",
    "    \n",
    "def my_spark_func(df, context=None):\n",
    "    return df.filter(\"bid>55\") # PySpark code\n",
    "\n",
    "# mlrun: end-code"
   ]
  },
  {
   "cell_type": "code",
   "execution_count": null,
   "metadata": {},
   "outputs": [],
   "source": [
    "# This section has to be invoked once per MLRun/Iguazio upgrade\n",
    "# from mlrun.runtimes import RemoteSparkRuntime\n",
    "# RemoteSparkRuntime.deploy_default_image()"
   ]
  },
  {
   "cell_type": "code",
   "execution_count": null,
   "metadata": {},
   "outputs": [],
   "source": [
    "from mlrun.datastore.sources import CSVSource\n",
    "from mlrun import code_to_function\n",
    "import mlrun.feature_store as fstore\n",
    "\n",
    "feature_set = fstore.FeatureSet(\"stock-quotes\", entities=[fstore.Entity(\"name\")], engine=\"spark\")\n",
    "\n",
    "source = CSVSource(\"mycsv\", path=\"v3io:///projects/quotes.csv\")\n",
    "\n",
    "feature_set.graph.to(name=\"s1\", handler=\"my_spark_func\")\n",
    "\n",
    "my_func = code_to_function(\"func\", kind=\"spark\")\n",
    "\n",
    "# Must-have coonfigurations:\n",
    "my_func.with_driver_requests(cpu=\"200m\", mem=\"1g\")\n",
    "my_func.with_executor_requests(cpu=\"200m\", mem=\"1g\")\n",
    "my_func.with_igz_spark()\n",
    "\n",
    "# Enables using the default image (can be replace with specifying a specific image with .spec.image)\n",
    "my_func.spec.use_default_image = True\n",
    "\n",
    "# Not a must - default: 1\n",
    "my_func.spec.replicas = 2\n",
    "\n",
    "config = fstore.RunConfig(local=False, function=my_func, handler=\"ingest_handler\")\n",
    "\n",
    "fstore.ingest(feature_set, source, run_config=config)"
   ]
  }
 ],
 "metadata": {
  "kernelspec": {
   "display_name": "Python 3",
   "language": "python",
   "name": "python3"
  },
  "language_info": {
   "codemirror_mode": {
    "name": "ipython",
    "version": 3
   },
   "file_extension": ".py",
   "mimetype": "text/x-python",
   "name": "python",
   "nbconvert_exporter": "python",
   "pygments_lexer": "ipython3",
   "version": "3.7.6"
  }
 },
 "nbformat": 4,
 "nbformat_minor": 4
}
